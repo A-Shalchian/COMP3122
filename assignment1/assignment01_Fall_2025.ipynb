{
 "cells": [
  {
   "cell_type": "markdown",
   "id": "01656eb6",
   "metadata": {
    "id": "01656eb6",
    "nbgrader": {
     "grade": false,
     "grade_id": "cell-9801eb509e41c7ed",
     "locked": true,
     "schema_version": 3,
     "solution": false,
     "task": false
    }
   },
   "source": [
    "# COMP 3122 – Assignment 01 (Individual Assignment)"
   ]
  },
  {
   "cell_type": "markdown",
   "id": "edfcae64",
   "metadata": {
    "id": "edfcae64",
    "nbgrader": {
     "grade": false,
     "grade_id": "cell-a3baf4a5aa751a18",
     "locked": true,
     "schema_version": 3,
     "solution": false,
     "task": false
    }
   },
   "source": [
    "###     Video\n",
    "Create a video between 3-5 minutes long explaining the function calls you have used, the parameters passed and most importantly, the reason for performing each step as related to Machine learning.\n",
    "*    You must upload this YouTube or any video streaming platform.\n",
    "*    The video cannot be private, it must be **unlisted** or **public**"
   ]
  },
  {
   "cell_type": "markdown",
   "id": "595933e4",
   "metadata": {
    "id": "595933e4",
    "nbgrader": {
     "grade": false,
     "grade_id": "cell-20300352746d30cb",
     "locked": true,
     "schema_version": 3,
     "solution": false,
     "task": false
    }
   },
   "source": [
    "Please write your name and relevant info in the first cell(s) as follow:\n",
    "**Arash Shalchian**\n",
    "\n",
    "#### **Student ID**: 101414035"
   ]
  },
  {
   "cell_type": "code",
   "execution_count": 1,
   "id": "4f77c05c-ba7e-4863-9900-0113d6d84eb3",
   "metadata": {
    "id": "4f77c05c-ba7e-4863-9900-0113d6d84eb3",
    "nbgrader": {
     "grade": false,
     "grade_id": "cell-56f3d4b44a0c9a2c",
     "locked": true,
     "schema_version": 3,
     "solution": false,
     "task": false
    }
   },
   "outputs": [],
   "source": [
    "import numpy as np\n",
    "import pandas as pd #optional - you may use it to read the csv file instead of numpy\n",
    "import matplotlib.pyplot as plt"
   ]
  },
  {
   "cell_type": "markdown",
   "id": "c6db4621",
   "metadata": {
    "id": "c6db4621",
    "nbgrader": {
     "grade": false,
     "grade_id": "cell-86c8e09d6fc86231",
     "locked": true,
     "schema_version": 3,
     "solution": false,
     "task": false
    }
   },
   "source": [
    "### Question 1:\t(1 point)\n",
    "\n",
    "1. Import the `biostats.csv` file and store it in an appropriate dataset with the variable name `biostats_array`.\n",
    "\n",
    "2. Fetch the Age column of the dataset as an array, and use a variable `ages` to hold it."
   ]
  },
  {
   "cell_type": "code",
   "execution_count": 19,
   "id": "dc39c377",
   "metadata": {
    "id": "dc39c377",
    "nbgrader": {
     "grade": false,
     "grade_id": "cell-5ec6f428a25ab524",
     "locked": false,
     "schema_version": 3,
     "solution": true,
     "task": false
    }
   },
   "outputs": [
    {
     "name": "stdout",
     "output_type": "stream",
     "text": [
      "Ages: [41 42 32 39 30 33 26 30 53 32 47 34 23 36 38 31 29 28]\n"
     ]
    }
   ],
   "source": [
    "#Your code here\n",
    "\n",
    "# pandas version\n",
    "biostats_df = pd.read_csv('biostats1.csv')\n",
    "biostats_array = biostats_df  # Create biostats_array for consistency with later questions\n",
    "ages = biostats_df['Age'].values\n",
    "print(f\"Ages: {ages}\")"
   ]
  },
  {
   "cell_type": "markdown",
   "id": "c7d9c3e0",
   "metadata": {
    "id": "c7d9c3e0"
   },
   "source": [
    "### Question 2:\t (1 point)\n",
    "\n",
    "Write `Python` code to calculate the average (mean), median, standard deviation, minimum and maximum of the array.\n",
    "\n",
    "**Important Note: Do not use `python` or `numpy` bult-in functions.**\n",
    "\n",
    "\n",
    "**Hints:**\n",
    "#### Formula for Median\n",
    "\n",
    "The `median` is the middle value in a dataset when the values are sorted in ascending order.\n",
    "\n",
    "- If the dataset has odd number of elements → median = middle element.\n",
    "\n",
    "- If the dataset has even number of elements → median = average of the two middle elements.\n",
    "\n",
    "\n",
    "#### Formula for Standard Deviation\n",
    "\n",
    "The **population standard deviation** is:\n",
    "\n",
    "$\n",
    "\\sigma = \\sqrt{\\frac{1}{N} \\sum_{i=1}^{N} (x_i - \\mu)^2}\n",
    "$\n",
    "\n",
    "Where:  \n",
    "- $x_i$ = each data point  \n",
    "- $\\mu$ = mean of the dataset  \n",
    "- $N$ = total number of data points  \n",
    "\n",
    "\n",
    "\n"
   ]
  },
  {
   "cell_type": "code",
   "execution_count": 7,
   "id": "e0b3e30e",
   "metadata": {
    "id": "e0b3e30e"
   },
   "outputs": [
    {
     "name": "stdout",
     "output_type": "stream",
     "text": [
      "Mean: 34.666666666666664\n",
      "Median: 32.5\n",
      "Standard Deviation: 7.363574011458175\n",
      "Minimum: 23\n",
      "Maximum: 53\n"
     ]
    }
   ],
   "source": [
    "#your code here\n",
    "# calculation of mean\n",
    "total = 0\n",
    "count = 0\n",
    "for age in ages:\n",
    "    total += age\n",
    "    count += 1\n",
    "my_average = total / count\n",
    "\n",
    "# calculation of minimum and maximum\n",
    "my_minimum = ages[0]\n",
    "my_maximum = ages[0]\n",
    "for age in ages:\n",
    "    if age < my_minimum:\n",
    "        my_minimum = age\n",
    "    if age > my_maximum:\n",
    "        my_maximum = age\n",
    "\n",
    "# calculation of median\n",
    "sorted_ages = sorted(ages)\n",
    "n = len(sorted_ages)\n",
    "if n % 2 == 1:  # odd number of elements\n",
    "    my_median = sorted_ages[n // 2]\n",
    "else:  # even number of elements\n",
    "    my_median = (sorted_ages[n // 2 - 1] + sorted_ages[n // 2]) / 2\n",
    "\n",
    "# calculation of standard deviation\n",
    "sum_squared_diff = 0\n",
    "for age in ages:\n",
    "    sum_squared_diff += (age - my_average) ** 2\n",
    "\n",
    "variance = sum_squared_diff / count\n",
    "my_std = variance ** 0.5\n",
    "\n",
    "print(f\"Mean: {my_average}\")\n",
    "print(f\"Median: {my_median}\")\n",
    "print(f\"Standard Deviation: {my_std}\")\n",
    "print(f\"Minimum: {my_minimum}\")\n",
    "print(f\"Maximum: {my_maximum}\")"
   ]
  },
  {
   "cell_type": "markdown",
   "id": "562e4818",
   "metadata": {
    "id": "562e4818",
    "nbgrader": {
     "grade": false,
     "grade_id": "cell-9cb67aef710f2d02",
     "locked": true,
     "schema_version": 3,
     "solution": false,
     "task": false
    }
   },
   "source": [
    "### Question 3:\t (1 point)\n",
    "\n",
    "Use methods of `numpy` package to calculate the follwoing statistics of the array;\n",
    "- average,\n",
    "- standard deviation,\n",
    "- minimum and maximum,\n",
    "- 30th and 70th percentile"
   ]
  },
  {
   "cell_type": "code",
   "execution_count": 8,
   "id": "89ba1b34",
   "metadata": {
    "id": "89ba1b34",
    "nbgrader": {
     "grade": false,
     "grade_id": "cell-7b1290ba723cb1aa",
     "locked": false,
     "schema_version": 3,
     "solution": true,
     "task": false
    }
   },
   "outputs": [
    {
     "name": "stdout",
     "output_type": "stream",
     "text": [
      "Average (NumPy): 34.666666666666664\n",
      "Median (NumPy): 32.5\n",
      "Std Dev (NumPy): 7.363574011458175\n",
      "Min (NumPy): 23\n",
      "Max (NumPy): 53\n",
      "30th Percentile: 30.1\n",
      "70th Percentile: 37.8\n"
     ]
    }
   ],
   "source": [
    "#your code here\n",
    "# Using NumPy built-in functions\n",
    "average_numpy = np.mean(ages)\n",
    "median_numpy = np.median(ages)\n",
    "std_numpy = np.std(ages)\n",
    "min_numpy = np.min(ages)\n",
    "max_numpy = np.max(ages)\n",
    "p30 = np.percentile(ages, 30)\n",
    "p70 = np.percentile(ages, 70)\n",
    "\n",
    "print(f\"Average (NumPy): {average_numpy}\")\n",
    "print(f\"Median (NumPy): {median_numpy}\")\n",
    "print(f\"Std Dev (NumPy): {std_numpy}\")\n",
    "print(f\"Min (NumPy): {min_numpy}\")\n",
    "print(f\"Max (NumPy): {max_numpy}\")\n",
    "print(f\"30th Percentile: {p30}\")\n",
    "print(f\"70th Percentile: {p70}\")"
   ]
  },
  {
   "cell_type": "markdown",
   "id": "43ca2207",
   "metadata": {
    "id": "43ca2207",
    "nbgrader": {
     "grade": false,
     "grade_id": "cell-20c8a044aa332f5d",
     "locked": true,
     "schema_version": 3,
     "solution": false,
     "task": false
    }
   },
   "source": [
    "### Question 4:\t(1 point)\n",
    "\n",
    "Using the Matplotlib library,\n",
    "\n",
    "1. draw a histogram chart for the Age column. Use an appropriate title, X-label, and Y-label. Moreover, include your first name in the title, e.g. Age Distribution – By Reza.\n",
    "\n",
    "2. draw vertical lines in mean, median and 30th and 70th percentiles in the histogram. (hint: use `plt.axvline()` method to draw vertical line)\n",
    "\n",
    "3. Calculate how many data points fall below the 30th percentile and verify that this number is approximately **30% of all data**. Repeat the calculation for the 70th percentile."
   ]
  },
  {
   "cell_type": "code",
   "execution_count": null,
   "id": "cdde5959",
   "metadata": {
    "id": "cdde5959",
    "nbgrader": {
     "grade": false,
     "grade_id": "cell-fdc80fba1896556d",
     "locked": false,
     "schema_version": 3,
     "solution": true,
     "task": false
    }
   },
   "outputs": [
    {
     "data": {
      "image/png": "[encoded data removed]",
      "text/plain": [
       "<Figure size 1000x600 with 1 Axes>"
      ]
     },
     "metadata": {},
     "output_type": "display_data"
    },
    {
     "name": "stdout",
     "output_type": "stream",
     "text": [
      "\n",
      "Verification:\n",
      "Data points below 30th percentile: 6 (33.33%)\n",
      "Data points below 70th percentile: 12 (66.67%)\n",
      "Expected: ~30% and ~70% respectively\n"
     ]
    }
   ],
   "source": [
    "#your code here\n",
    "plt.figure(figsize=(10, 6))\n",
    "plt.hist(ages, bins=10, edgecolor='black', alpha=0.7)\n",
    "\n",
    "# add vertical lines\n",
    "plt.axvline(average_numpy, color='red', linestyle='--', linewidth=2, label=f'Mean: {average_numpy:.2f}')\n",
    "plt.axvline(median_numpy, color='green', linestyle='--', linewidth=2, label=f'Median: {median_numpy:.2f}')\n",
    "plt.axvline(p30, color='blue', linestyle='--', linewidth=2, label=f'30th Percentile: {p30:.2f}')\n",
    "plt.axvline(p70, color='orange', linestyle='--', linewidth=2, label=f'70th Percentile: {p70:.2f}')\n",
    "\n",
    "# add labels and title\n",
    "plt.title('Age Distribution - By Arash', fontsize=14)\n",
    "plt.xlabel('Age', fontsize=12)\n",
    "plt.ylabel('Frequency', fontsize=12)\n",
    "plt.legend()\n",
    "plt.grid(axis='y', alpha=0.3)\n",
    "plt.show()\n",
    "\n",
    "# verify percentiles\n",
    "count_below_p30 = np.sum(ages < p30)\n",
    "count_below_p70 = np.sum(ages < p70)\n",
    "total_count = len(ages)\n",
    "\n",
    "percent_below_p30 = (count_below_p30 / total_count) * 100\n",
    "percent_below_p70 = (count_below_p70 / total_count) * 100\n",
    "\n",
    "print(f\"\\nVerification:\")\n",
    "print(f\"Data points below 30th percentile: {count_below_p30} ({percent_below_p30:.2f}%)\")\n",
    "print(f\"Data points below 70th percentile: {count_below_p70} ({percent_below_p70:.2f}%)\")\n",
    "print(f\"Expected: ~30% and ~70% respectively\")"
   ]
  },
  {
   "cell_type": "markdown",
   "id": "tlSaLG2OVg6M",
   "metadata": {
    "id": "tlSaLG2OVg6M"
   },
   "source": [
    "### Question 5: Broadcasting (2 points)\n",
    "\n",
    "Using the biostats dataset you loaded earlier:\n",
    "\n",
    "1.   Use broadcasting to convert:\n",
    "*   `Height(Inches)` → meters (1 inch = 0.0254 m)\n",
    "\n",
    "*   `Weight(Pounds)` → kilograms (1 lb = 0.453592 kg)\n",
    "\n",
    "2.   Compute a BMI array using broadcasting:\n",
    "BMI = weight_kg / (height_m)^2\n",
    "\n",
    "3.   Create a z-score normalized age array (no loops):\n",
    "\n",
    "z = (ages - mean(ages))/std(ages)\n",
    "\n",
    "Rules: Use vectorized NumPy operations only (no Python loops)\n",
    "\n",
    "\n",
    "\n",
    "\n",
    "\n",
    "\n"
   ]
  },
  {
   "cell_type": "code",
   "execution_count": null,
   "id": "EaKsuaaZYb4u",
   "metadata": {
    "id": "EaKsuaaZYb4u"
   },
   "outputs": [
    {
     "name": "stdout",
     "output_type": "stream",
     "text": [
      "Heights in meters (first 5): [1.8796 1.7272 1.778  1.8288 1.6764]\n",
      "Weights in kg (first 5): [77.11064  75.296272 70.30676  75.749864 56.245408]\n",
      "BMI values (first 5): [21.82646659 25.23993404 22.23993795 22.64902084 20.01390192]\n",
      "Z-scored ages (first 5): [ 0.86008959  0.99589321 -0.36214298  0.58848235 -0.63375022]\n",
      "\n",
      "Mean of z-scored ages (should be ~0): 0.0000000000\n",
      "Std of z-scored ages (should be ~1): 1.0000000000\n"
     ]
    }
   ],
   "source": [
    "# Assume biostats_array columns include: Name, Sex, Age, Height(Inches), Weight(Pounds)\n",
    "# If you used pandas earlier, you may extract the columns as NumPy arrays with .to_numpy()\n",
    "\n",
    "heights_in = biostats_array['Height']  # in inches\n",
    "weights_lb = biostats_array['Weight']  # in pounds\n",
    "\n",
    "# convert using broadcasting (vectorized operations)\n",
    "heights_m = heights_in * 0.0254\n",
    "weights_kg = weights_lb * 0.453592\n",
    "\n",
    "bmi = weights_kg / (heights_m ** 2)  # weight_kg / (height_m ** 2)\n",
    "\n",
    "# Z-score\n",
    "ages_z = (ages - np.mean(ages)) / np.std(ages)  # z-scored ages using broadcasted mean\n",
    "\n",
    "print(f\"Heights in meters (first 5): {heights_m[:5]}\")\n",
    "print(f\"Weights in kg (first 5): {weights_kg[:5]}\")\n",
    "print(f\"BMI values (first 5): {bmi[:5]}\")\n",
    "print(f\"Z-scored ages (first 5): {ages_z[:5]}\")\n",
    "print(f\"\\nMean of z-scored ages (should be ~0): {np.mean(ages_z):.10f}\")\n",
    "print(f\"Std of z-scored ages (should be ~1): {np.std(ages_z):.10f}\")"
   ]
  },
  {
   "cell_type": "markdown",
   "id": "Epv8vEtDYoSb",
   "metadata": {
    "id": "Epv8vEtDYoSb"
   },
   "source": [
    "###     Question 6: Indexing with Booleans & Bit Masks (2 points)\n",
    "Using boolean masks (and bitwise operators &, |, ~):\n",
    "\n",
    "\n",
    "1.   Create a mask for adults (Age >= 18) and compute:\n",
    "*   Count of adults\n",
    "*   Average BMI among adults\n",
    "\n",
    "\n",
    "2.   Create a mask for females under 30 and compute:\n",
    "*   Count\n",
    "*   Median BMI\n",
    "\n",
    "3. Create a mask for overweight (use BMI ≥ 25) and compute:\n",
    "*   Percentage of dataset that is overweight\n",
    "*   Average age of overweight group\n",
    "\n",
    "Rules: Use boolean arrays and bitwise ops. Don't use loops."
   ]
  },
  {
   "cell_type": "code",
   "execution_count": null,
   "id": "Vn7Zc_AhZEW7",
   "metadata": {
    "id": "Vn7Zc_AhZEW7"
   },
   "outputs": [
    {
     "name": "stdout",
     "output_type": "stream",
     "text": [
      "Sex values after cleaning: ['F' 'M']\n",
      "\n",
      "Adults (Age >= 18):\n",
      "  Count: 18\n",
      "  Average BMI: 21.50\n",
      "\n",
      "Females under 30:\n",
      "  Count: 3\n",
      "  Median BMI: 20.77\n",
      "\n",
      "Overweight individuals (BMI >= 25):\n",
      "  Percentage of dataset: 5.56%\n",
      "  Average age: 42.00\n"
     ]
    }
   ],
   "source": [
    "# You may have 'sex' as an array of strings like 'M'/'F' depending on your CSV\n",
    "# Extract Sex column from the dataset\n",
    "sex = biostats_array['Sex']\n",
    "\n",
    "sex_clean = np.char.strip(np.char.replace(np.char.replace(sex.astype(str), '\"', ''), ' ', ''))\n",
    "\n",
    "# boolean masks using bitwise operators\n",
    "adults_mask = ages >= 18                # Age >= 18\n",
    "females_under30_mask = (sex_clean == 'F') & (ages < 30)  # (Sex == 'F') & (Age < 30)\n",
    "overweight_mask = bmi >= 25            # BMI >= 25\n",
    "\n",
    "# statistics for adults\n",
    "num_adults = np.sum(adults_mask)\n",
    "avg_bmi_adults = np.mean(bmi[adults_mask])\n",
    "\n",
    "# statistics for females under 30\n",
    "num_f_under30 = np.sum(females_under30_mask)\n",
    "median_bmi_f_under30 = np.median(bmi[females_under30_mask]) if num_f_under30 > 0 else 0\n",
    "\n",
    "# statistics for overweight individuals\n",
    "pct_overweight = (np.sum(overweight_mask) / len(bmi)) * 100  # 0..100\n",
    "avg_age_overweight = np.mean(ages[overweight_mask]) if np.sum(overweight_mask) > 0 else 0\n",
    "\n",
    "print(f\"Sex values after cleaning: {np.unique(sex_clean)}\")\n",
    "print(f\"\\nAdults (Age >= 18):\")\n",
    "print(f\"  Count: {num_adults}\")\n",
    "print(f\"  Average BMI: {avg_bmi_adults:.2f}\")\n",
    "\n",
    "print(f\"\\nFemales under 30:\")\n",
    "print(f\"  Count: {num_f_under30}\")\n",
    "print(f\"  Median BMI: {median_bmi_f_under30:.2f}\")\n",
    "\n",
    "print(f\"\\nOverweight individuals (BMI >= 25):\")\n",
    "print(f\"  Percentage of dataset: {pct_overweight:.2f}%\")\n",
    "print(f\"  Average age: {avg_age_overweight:.2f}\")"
   ]
  },
  {
   "cell_type": "markdown",
   "id": "N5hqSvAob3R5",
   "metadata": {
    "id": "N5hqSvAob3R5"
   },
   "source": [
    "###    Question 7: Simple Linear Regression on Biostats (4 point)\n",
    "\n",
    "Use Age (feature) to predict Weight(kg) in the biostats data:\n",
    "\n",
    "1.   Split 80/20 with random_state=0.\n",
    "2.   Fit LinearRegression() (no scaling needed for a single feature).\n",
    "3.   Report test R² and RMSE.\n",
    "4.   Plot Age vs Weight with the fitted regression line.\n"
   ]
  },
  {
   "cell_type": "code",
   "execution_count": 20,
   "id": "UpQRa91gcJQK",
   "metadata": {
    "id": "UpQRa91gcJQK"
   },
   "outputs": [
    {
     "name": "stdout",
     "output_type": "stream",
     "text": [
      "Linear Regression Results:\n",
      "Test R² Score: -0.7564\n",
      "Test RMSE: 12.9026\n",
      "Model Coefficient (slope): 1.2982\n",
      "Model Intercept: 23.8090\n"
     ]
    },
    {
     "data": {
      "image/png": "[encoded data removed]",
      "text/plain": [
       "<Figure size 1000x600 with 1 Axes>"
      ]
     },
     "metadata": {},
     "output_type": "display_data"
    }
   ],
   "source": [
    "from sklearn.model_selection import train_test_split\n",
    "from sklearn.linear_model import LinearRegression\n",
    "from sklearn.metrics import r2_score, mean_squared_error\n",
    "import numpy as np\n",
    "import matplotlib.pyplot as plt\n",
    "\n",
    "# Prepare the data\n",
    "X_age = ages.reshape(-1, 1)         # ages.reshape(-1, 1)\n",
    "y_wkg = weights_kg         # weights_kg\n",
    "\n",
    "# Split 80/20 with random_state=0\n",
    "X_tr, X_te, y_tr, y_te = train_test_split(X_age, y_wkg, test_size=0.2, random_state=0)\n",
    "\n",
    "# Fit the linear regression model\n",
    "linreg = LinearRegression()\n",
    "linreg.fit(X_tr, y_tr)\n",
    "\n",
    "# Make predictions on test set\n",
    "y_pred_te = linreg.predict(X_te)\n",
    "\n",
    "# Calculate metrics\n",
    "r2_bio = r2_score(y_te, y_pred_te)\n",
    "rmse_bio = np.sqrt(mean_squared_error(y_te, y_pred_te))\n",
    "\n",
    "print(f\"Linear Regression Results:\")\n",
    "print(f\"Test R² Score: {r2_bio:.4f}\")\n",
    "print(f\"Test RMSE: {rmse_bio:.4f}\")\n",
    "print(f\"Model Coefficient (slope): {linreg.coef_[0]:.4f}\")\n",
    "print(f\"Model Intercept: {linreg.intercept_:.4f}\")\n",
    "\n",
    "# Plot with regression line\n",
    "plt.figure(figsize=(10, 6))\n",
    "plt.scatter(ages, weights_kg, alpha=0.6, label='Actual Data')\n",
    "\n",
    "# Generate line for plotting\n",
    "line_x = np.linspace(ages.min(), ages.max(), 100).reshape(-1, 1)\n",
    "line_y = linreg.predict(line_x)\n",
    "plt.plot(line_x, line_y, color='red', linewidth=2, label='Regression Line')\n",
    "\n",
    "plt.title(\"Weight vs Age with Regression Line\", fontsize=14)\n",
    "plt.xlabel(\"Age\", fontsize=12)\n",
    "plt.ylabel(\"Weight (kg)\", fontsize=12)\n",
    "plt.legend()\n",
    "plt.grid(alpha=0.3)\n",
    "plt.show()"
   ]
  }
 ],
 "metadata": {
  "colab": {
   "provenance": []
  },
  "kernelspec": {
   "display_name": "Python 3",
   "language": "python",
   "name": "python3"
  },
  "language_info": {
   "codemirror_mode": {
    "name": "ipython",
    "version": 3
   },
   "file_extension": ".py",
   "mimetype": "text/x-python",
   "name": "python",
   "nbconvert_exporter": "python",
   "pygments_lexer": "ipython3",
   "version": "3.12.3"
  }
 },
 "nbformat": 4,
 "nbformat_minor": 5
}
